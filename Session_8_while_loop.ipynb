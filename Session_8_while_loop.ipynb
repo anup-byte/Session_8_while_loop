{
 "cells": [
  {
   "cell_type": "code",
   "execution_count": 1,
   "id": "24b712fd",
   "metadata": {},
   "outputs": [],
   "source": [
    "# loops"
   ]
  },
  {
   "cell_type": "code",
   "execution_count": 2,
   "id": "740e1b6e",
   "metadata": {},
   "outputs": [],
   "source": [
    "# print a natural number from 1 to 10 using while loop"
   ]
  },
  {
   "cell_type": "code",
   "execution_count": 3,
   "id": "d330deda",
   "metadata": {},
   "outputs": [
    {
     "name": "stdout",
     "output_type": "stream",
     "text": [
      "1\n",
      "2\n",
      "3\n",
      "4\n",
      "5\n",
      "6\n",
      "7\n",
      "8\n",
      "9\n",
      "10\n"
     ]
    }
   ],
   "source": [
    "i = 1\n",
    "while i <= 10:\n",
    "    print(i)\n",
    "    i = i + 1"
   ]
  },
  {
   "cell_type": "code",
   "execution_count": 4,
   "id": "a08a66f3",
   "metadata": {},
   "outputs": [
    {
     "name": "stdout",
     "output_type": "stream",
     "text": [
      "1\n",
      "3\n",
      "5\n",
      "7\n",
      "9\n"
     ]
    }
   ],
   "source": [
    "i = 1\n",
    "while i <= 10:\n",
    "    print(i)\n",
    "    i = i + 2"
   ]
  },
  {
   "cell_type": "code",
   "execution_count": 5,
   "id": "6b175a1b",
   "metadata": {},
   "outputs": [
    {
     "name": "stdout",
     "output_type": "stream",
     "text": [
      "AI Ki Paathshala\n",
      "AI Ki Paathshala\n",
      "AI Ki Paathshala\n",
      "AI Ki Paathshala\n",
      "AI Ki Paathshala\n"
     ]
    }
   ],
   "source": [
    "i = 1\n",
    "while i <=5:\n",
    "    print(\"AI Ki Paathshala\")\n",
    "    i = i + 1"
   ]
  },
  {
   "cell_type": "code",
   "execution_count": 6,
   "id": "bf30d8a6",
   "metadata": {},
   "outputs": [
    {
     "name": "stdout",
     "output_type": "stream",
     "text": [
      "a\n",
      "n\n",
      "u\n",
      "p\n"
     ]
    }
   ],
   "source": [
    "s = 'anup'\n",
    "i = 0\n",
    "while i < len(s):\n",
    "    print(s[i])\n",
    "    i = i + 1"
   ]
  },
  {
   "cell_type": "code",
   "execution_count": 7,
   "id": "6403a530",
   "metadata": {},
   "outputs": [],
   "source": [
    "#pass"
   ]
  },
  {
   "cell_type": "code",
   "execution_count": 8,
   "id": "345d8690",
   "metadata": {},
   "outputs": [
    {
     "name": "stdout",
     "output_type": "stream",
     "text": [
      "please enter a number: 589\n"
     ]
    }
   ],
   "source": [
    "a = int(input(\"please enter a number: \"))\n",
    "\n",
    "if a > 100:\n",
    "    pass\n",
    "    \n",
    "else:\n",
    "    print(\"Yes\")"
   ]
  },
  {
   "cell_type": "code",
   "execution_count": 9,
   "id": "3a22dce6",
   "metadata": {},
   "outputs": [
    {
     "name": "stdout",
     "output_type": "stream",
     "text": [
      "1\n",
      "2\n",
      "3\n",
      "4\n",
      "5\n",
      "6\n",
      "7\n",
      "8\n",
      "9\n",
      "10\n",
      "Total money:  100 Rupees\n"
     ]
    }
   ],
   "source": [
    "notes = 10\n",
    "i = 1\n",
    "while i <= notes:\n",
    "    print(i)\n",
    "    i =  i + 1\n",
    "    \n",
    "print(\"Total money: \", notes * 10, 'Rupees')    "
   ]
  },
  {
   "cell_type": "code",
   "execution_count": 10,
   "id": "743cfd4f",
   "metadata": {},
   "outputs": [],
   "source": [
    "#while - else"
   ]
  },
  {
   "cell_type": "code",
   "execution_count": 11,
   "id": "46256731",
   "metadata": {},
   "outputs": [
    {
     "name": "stdout",
     "output_type": "stream",
     "text": [
      "No 10 rupees note is left\n",
      "Total money:  100 Rupees\n"
     ]
    }
   ],
   "source": [
    "notes = 10\n",
    "i = 15\n",
    "while i <= notes:\n",
    "    print(i)\n",
    "    i =  i + 1\n",
    "    \n",
    "else:\n",
    "    print(\"No 10 rupees note is left\")\n",
    "    \n",
    "print(\"Total money: \", notes * 10, 'Rupees')  "
   ]
  },
  {
   "cell_type": "code",
   "execution_count": 12,
   "id": "5a314a3a",
   "metadata": {},
   "outputs": [],
   "source": [
    "# for loop in python"
   ]
  },
  {
   "cell_type": "code",
   "execution_count": 13,
   "id": "991d51b4",
   "metadata": {},
   "outputs": [],
   "source": [
    "list1 = [2, 6, 10, 15, 20, 50]"
   ]
  },
  {
   "cell_type": "code",
   "execution_count": 14,
   "id": "baac7345",
   "metadata": {},
   "outputs": [
    {
     "name": "stdout",
     "output_type": "stream",
     "text": [
      "2\n",
      "6\n",
      "10\n",
      "15\n",
      "20\n",
      "50\n"
     ]
    }
   ],
   "source": [
    "for i in list1:\n",
    "    print(i)"
   ]
  },
  {
   "cell_type": "code",
   "execution_count": 15,
   "id": "c37fa2ab",
   "metadata": {},
   "outputs": [],
   "source": [
    "list2 = [1,2,3,4,5,6,7,8,9,10,11,12,13,14,15]"
   ]
  },
  {
   "cell_type": "code",
   "execution_count": 16,
   "id": "44542b94",
   "metadata": {},
   "outputs": [],
   "source": [
    "#print the even number from this list using for loop"
   ]
  },
  {
   "cell_type": "code",
   "execution_count": 17,
   "id": "cee9bedc",
   "metadata": {},
   "outputs": [
    {
     "name": "stdout",
     "output_type": "stream",
     "text": [
      "odd number\n",
      "2\n",
      "odd number\n",
      "4\n",
      "odd number\n",
      "6\n",
      "odd number\n",
      "8\n",
      "odd number\n",
      "10\n",
      "odd number\n",
      "12\n",
      "odd number\n",
      "14\n",
      "odd number\n"
     ]
    }
   ],
   "source": [
    "for i in list2:\n",
    "    if i % 2 == 0:\n",
    "        print(i)\n",
    "        \n",
    "    else:\n",
    "        print('odd number')\n",
    "        \n",
    "   \n",
    "        "
   ]
  },
  {
   "cell_type": "code",
   "execution_count": 18,
   "id": "1b3f2be5",
   "metadata": {},
   "outputs": [
    {
     "name": "stdout",
     "output_type": "stream",
     "text": [
      "A\n",
      "I\n",
      " \n",
      "K\n",
      "I\n",
      " \n",
      "P\n",
      "a\n",
      "a\n",
      "t\n",
      "h\n",
      "S\n",
      "h\n",
      "a\n",
      "l\n",
      "a\n"
     ]
    }
   ],
   "source": [
    "for leeter in \"AI KI PaathShala\":\n",
    "    print(leeter)"
   ]
  },
  {
   "cell_type": "code",
   "execution_count": 19,
   "id": "8b7a2a13",
   "metadata": {},
   "outputs": [],
   "source": [
    "list3 = [1,2,3,4,5,6]\n",
    "#sum all the values inside this list using for loop"
   ]
  },
  {
   "cell_type": "code",
   "execution_count": 20,
   "id": "b5e66980",
   "metadata": {},
   "outputs": [
    {
     "name": "stdout",
     "output_type": "stream",
     "text": [
      "21\n"
     ]
    }
   ],
   "source": [
    "list_sum = 0\n",
    "\n",
    "for i in list3:\n",
    "    list_sum = list_sum + i\n",
    "    \n",
    "print(list_sum)    "
   ]
  },
  {
   "cell_type": "code",
   "execution_count": 21,
   "id": "04d4ebeb",
   "metadata": {},
   "outputs": [
    {
     "name": "stdout",
     "output_type": "stream",
     "text": [
      "21\n"
     ]
    }
   ],
   "source": [
    "list3 = [1,2,3,4,5,6]\n",
    "list_sum = 0\n",
    "for n in list3:\n",
    "    list_sum = list_sum + n\n",
    "\n",
    "print(list_sum)"
   ]
  },
  {
   "cell_type": "code",
   "execution_count": 22,
   "id": "8819180d",
   "metadata": {},
   "outputs": [
    {
     "name": "stdout",
     "output_type": "stream",
     "text": [
      "21\n"
     ]
    }
   ],
   "source": [
    "list3 = [1,2,3,4,5,6]\n",
    "list_sum = 0\n",
    "for i in list3:\n",
    "    list_sum = list_sum + i\n",
    "\n",
    "print(list_sum)"
   ]
  },
  {
   "cell_type": "code",
   "execution_count": 23,
   "id": "bc92c6c6",
   "metadata": {},
   "outputs": [
    {
     "name": "stdout",
     "output_type": "stream",
     "text": [
      "1\n",
      "2\n",
      "3\n",
      "4\n",
      "5\n",
      "6\n",
      "7\n",
      "8\n",
      "9\n",
      "10\n",
      "total money: 100 rupee\n"
     ]
    }
   ],
   "source": [
    "notes = 10\n",
    "i =1\n",
    "while i <= notes:\n",
    "    print(i)\n",
    "    i =i+1\n",
    "print (\"total money:\",notes*10,'rupee')"
   ]
  },
  {
   "cell_type": "code",
   "execution_count": 24,
   "id": "31121d4d",
   "metadata": {},
   "outputs": [
    {
     "name": "stdout",
     "output_type": "stream",
     "text": [
      "odd number\n",
      "2\n",
      "odd number\n",
      "4\n",
      "odd number\n",
      "6\n",
      "odd number\n",
      "8\n",
      "odd number\n",
      "10\n",
      "odd number\n",
      "12\n",
      "odd number\n",
      "14\n",
      "odd number\n"
     ]
    }
   ],
   "source": [
    "for i in list2:\n",
    "    if i % 2 ==0:\n",
    "        print(i)\n",
    "    else:\n",
    "        print('odd number')"
   ]
  }
 ],
 "metadata": {
  "kernelspec": {
   "display_name": "Python 3 (ipykernel)",
   "language": "python",
   "name": "python3"
  },
  "language_info": {
   "codemirror_mode": {
    "name": "ipython",
    "version": 3
   },
   "file_extension": ".py",
   "mimetype": "text/x-python",
   "name": "python",
   "nbconvert_exporter": "python",
   "pygments_lexer": "ipython3",
   "version": "3.11.4"
  }
 },
 "nbformat": 4,
 "nbformat_minor": 5
}
